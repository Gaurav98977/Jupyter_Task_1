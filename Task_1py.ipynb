{
 "cells": [
  {
   "cell_type": "markdown",
   "id": "04013f37-161d-4b99-bde4-446da63f8fb2",
   "metadata": {},
   "source": [
    "## **Task-1** A Documentation of **All Markdown Properties** and **Keyboard Shortcuts** in Jupyter Notebook\n",
    "[Github Link][https://github.com/Gaurav98977/Jupyter_Task_1]      ***Gaurav Rode***"
   ]
  },
  {
   "cell_type": "markdown",
   "id": "1e796c2f-b529-47ce-83b5-a7a106513413",
   "metadata": {},
   "source": [
    "### All Markdown Properties"
   ]
  },
  {
   "cell_type": "markdown",
   "id": "00f9e8d4-33fa-44d7-9274-5c996fc2243e",
   "metadata": {},
   "source": [
    "#### Headings"
   ]
  },
  {
   "cell_type": "raw",
   "id": "596f351b-9626-406f-b4ae-c5877b68b8fe",
   "metadata": {},
   "source": [
    "There are six types of headings in Jupyter Notebook "
   ]
  },
  {
   "cell_type": "markdown",
   "id": "3d3ae4e4-f0a4-4f6e-b17e-532d020898e1",
   "metadata": {},
   "source": [
    "For **Heading 1** We use single Hashtag **#**"
   ]
  },
  {
   "cell_type": "markdown",
   "id": "ec6ac423-89bf-4256-9ea8-ce99a8929cb6",
   "metadata": {},
   "source": [
    "# Heading 1 "
   ]
  },
  {
   "cell_type": "markdown",
   "id": "463e0e2e-fbfe-4aae-beb7-56c2c047108c",
   "metadata": {},
   "source": [
    "For **Heading 2** We use Double Hashtag **##**"
   ]
  },
  {
   "cell_type": "markdown",
   "id": "3252ab9d-5e58-45d6-a155-519913f07c1b",
   "metadata": {},
   "source": [
    "## Heading 2"
   ]
  },
  {
   "cell_type": "markdown",
   "id": "9aac346b-03fc-472c-ad33-6d2b82ab2ded",
   "metadata": {},
   "source": [
    "For **Heading 3** We use Three Hashtag **###**"
   ]
  },
  {
   "cell_type": "markdown",
   "id": "6d2e3ce4-907a-4035-8aa7-8c99e107b071",
   "metadata": {},
   "source": [
    "### Heading 3"
   ]
  },
  {
   "cell_type": "markdown",
   "id": "5ab568b2-c9f7-4372-8f16-c474e326751a",
   "metadata": {},
   "source": [
    "For **Heading 4** We use four Hashtag **####**"
   ]
  },
  {
   "cell_type": "markdown",
   "id": "037a9e23-c133-4883-84ea-67999bd0d76b",
   "metadata": {},
   "source": [
    "#### Heading 4"
   ]
  },
  {
   "cell_type": "markdown",
   "id": "1ab881da-8fa1-4d81-a61d-b8c913829a1e",
   "metadata": {},
   "source": [
    "For **Heading 5** We use five Hashtag **#####**"
   ]
  },
  {
   "cell_type": "markdown",
   "id": "76eee90b-f54f-4d81-b683-c12f1a9ac6ea",
   "metadata": {},
   "source": [
    "##### Heading 5"
   ]
  },
  {
   "cell_type": "markdown",
   "id": "df8497f0-9af9-4bd7-8d52-f022733ba19c",
   "metadata": {},
   "source": [
    "For **Heading 6** We use six Hashtag **######**"
   ]
  },
  {
   "cell_type": "markdown",
   "id": "06f55e13-3dca-4e79-b2e1-da8e23a83191",
   "metadata": {},
   "source": [
    "###### Heading 6"
   ]
  },
  {
   "cell_type": "markdown",
   "id": "2275ec6b-0445-493b-8280-83be96a3fec1",
   "metadata": {},
   "source": [
    "### Text Formatting"
   ]
  },
  {
   "cell_type": "raw",
   "id": "61d79e98-ca8f-4d17-a119-64d931138889",
   "metadata": {},
   "source": [
    "For Bold Text : We Use Double Asterick EX- ( **Word** )  or use Underscore EX- ( __Word__ )"
   ]
  },
  {
   "cell_type": "markdown",
   "id": "035a7cd9-32c4-49dd-b518-286aee1d62e7",
   "metadata": {},
   "source": [
    "**Word** \"**\""
   ]
  },
  {
   "cell_type": "markdown",
   "id": "8d827a06-ea99-4c1b-ab5b-371becebcc72",
   "metadata": {},
   "source": [
    "__Word__ \"\"__\"\""
   ]
  },
  {
   "cell_type": "markdown",
   "id": "fa13ecc6-7e86-4699-b34b-77e0ac821577",
   "metadata": {},
   "source": [
    "#### Italic Text"
   ]
  },
  {
   "cell_type": "raw",
   "id": "d97fc0fa-17ce-4683-9bd3-d6b244c21b32",
   "metadata": {},
   "source": [
    "for Italic text We use Single Asterick EX- ( *word* ) or Single Underscore EX- ( _word_ )"
   ]
  },
  {
   "cell_type": "markdown",
   "id": "aa6f63bf-ad95-486a-99e6-b51faeaeff52",
   "metadata": {},
   "source": [
    "*Word* \"*\""
   ]
  },
  {
   "cell_type": "markdown",
   "id": "bbd54a5d-4f56-4c43-b4ad-731c844cc7af",
   "metadata": {},
   "source": [
    "_Word_   \"_\""
   ]
  },
  {
   "cell_type": "markdown",
   "id": "a99a604a-4f21-44a5-898b-a70720b05a2c",
   "metadata": {},
   "source": [
    "#### Strikethrough Text "
   ]
  },
  {
   "cell_type": "raw",
   "id": "459971a0-934c-4214-a2f6-36bebaed95df",
   "metadata": {},
   "source": [
    "for Strikethrough Text:  We use (Implication ~) EX - ( ~~Word~~ )"
   ]
  },
  {
   "cell_type": "markdown",
   "id": "85be90d3-b420-4a02-a79e-5e0539ad1981",
   "metadata": {},
   "source": [
    "~~Word~~ \"~~\""
   ]
  },
  {
   "cell_type": "markdown",
   "id": "0e7e4eae-b6b4-43c4-8d36-93f21990a6a6",
   "metadata": {},
   "source": [
    "#### Bold and Italic Text"
   ]
  },
  {
   "cell_type": "raw",
   "id": "5acc8c75-62ce-4a05-b051-768f7fd6a955",
   "metadata": {},
   "source": [
    "For Bold and Italic text We use Triple Asterik (***) Example - ( ***Bold Italic Word*** )"
   ]
  },
  {
   "cell_type": "markdown",
   "id": "ffb2c526-fcd9-4324-8e06-3fc0ab9466bd",
   "metadata": {},
   "source": [
    "***Bold Italic Word*** \"***\""
   ]
  },
  {
   "cell_type": "markdown",
   "id": "a58880ce-7441-44ca-8bff-cfc11e66b72e",
   "metadata": {},
   "source": [
    "#### List"
   ]
  },
  {
   "cell_type": "raw",
   "id": "86e708cf-1f6a-4f91-9ea3-a3dae55a3cd8",
   "metadata": {
    "scrolled": true
   },
   "source": [
    "- For Bullet Point Use \"-\", \" * \", \" + \" "
   ]
  },
  {
   "cell_type": "markdown",
   "id": "a4e9589c-7c3e-404a-901b-72e5cf8faa53",
   "metadata": {},
   "source": [
    "- Bullet Point \"-\""
   ]
  },
  {
   "cell_type": "markdown",
   "id": "c2c653fd-2fc9-4df0-a3da-ce9d795b541a",
   "metadata": {},
   "source": [
    "* Bullet Point \"*\""
   ]
  },
  {
   "cell_type": "markdown",
   "id": "7ac644ad-3fc9-430d-9893-8923cb8ef43c",
   "metadata": {},
   "source": [
    "+ Bullet Point \"+\""
   ]
  },
  {
   "cell_type": "markdown",
   "id": "3f88161d-bf70-48eb-876a-47c65929c2ee",
   "metadata": {},
   "source": [
    "#### Ordered List"
   ]
  },
  {
   "cell_type": "raw",
   "id": "85d53434-5e86-4cf7-b719-1c68efbc6719",
   "metadata": {},
   "source": [
    "For Ordered List Use Blacktick EX- ( `1.` ) "
   ]
  },
  {
   "cell_type": "markdown",
   "id": "73722566-198f-4712-85ef-da9db2cd066c",
   "metadata": {},
   "source": [
    "`1.` \"``\""
   ]
  },
  {
   "cell_type": "markdown",
   "id": "007bbfe6-1a93-4170-95e7-97c9def5556a",
   "metadata": {},
   "source": [
    "`1.` Word 1,\n",
    "`2.` Word 2,\n",
    "`3.` Word 3"
   ]
  },
  {
   "cell_type": "markdown",
   "id": "edb6c865-a1d7-4eb3-81b3-ab7593db7d2a",
   "metadata": {},
   "source": [
    "#### Inline Code"
   ]
  },
  {
   "cell_type": "raw",
   "id": "17f8876f-593c-4547-950a-525f5b8847df",
   "metadata": {},
   "source": [
    "For Inline Code Use Ex-`Code`"
   ]
  },
  {
   "cell_type": "markdown",
   "id": "b3c30dae-3d82-4459-a489-99ffde252852",
   "metadata": {},
   "source": [
    "`Code` "
   ]
  },
  {
   "cell_type": "raw",
   "id": "f37689d7-f431-4fb1-bf17-a976d721d5c1",
   "metadata": {},
   "source": [
    "For ```Code Blocks Use \" ``` \""
   ]
  },
  {
   "cell_type": "markdown",
   "id": "476c1592-dced-4f00-ab1c-298ca269bd45",
   "metadata": {},
   "source": [
    "``` Code Block"
   ]
  },
  {
   "cell_type": "markdown",
   "id": "7552af2b-ee8c-4461-b621-29599448b472",
   "metadata": {},
   "source": [
    "#### Links and Images"
   ]
  },
  {
   "cell_type": "raw",
   "id": "c8da7f9c-8d1e-4997-9c73-07996fc5c102",
   "metadata": {},
   "source": [
    "Links: [Link Text](URL)\n",
    "Example: [Google](https://www.google.com)\n",
    "Images: ![Alt Text](Image URL)\n",
    "Example: ![Jupyter Logo](https://jupyter.org/assets/main-logo.svg)"
   ]
  },
  {
   "cell_type": "markdown",
   "id": "e428bbb7-e5b2-4ce6-89a6-487b65f10e80",
   "metadata": {},
   "source": [
    "\n",
    "**Example URL**: [Google](https://www.google.com)\n",
    "\n",
    "**Example Image**: ![Jupyter Logo](https://encrypted-tbn0.gstatic.com/images?q=tbn:ANd9GcSn5qoh2GS_WbBtD2Zz6I9z8JaagZ9zEoLlNw&s)"
   ]
  },
  {
   "cell_type": "markdown",
   "id": "9c562281-d663-4094-a136-692fecd6fa9a",
   "metadata": {},
   "source": [
    "#### Block Quotes"
   ]
  },
  {
   "cell_type": "markdown",
   "id": "aa8e1c62-db10-47f8-ac1b-9770cc88f101",
   "metadata": {},
   "source": [
    "Use \">\" Example - ( > This is a Block Quote ) Use for Paragraphs"
   ]
  },
  {
   "cell_type": "markdown",
   "id": "9529beca-f962-4202-9c3b-81db0dd49e75",
   "metadata": {},
   "source": [
    "> This is a paragraph"
   ]
  },
  {
   "cell_type": "markdown",
   "id": "fd316200-f887-44f2-8fe1-54fbd2b0fe0d",
   "metadata": {},
   "source": [
    "#### Horizontal Lines"
   ]
  },
  {
   "cell_type": "raw",
   "id": "ec2416d1-c367-41e0-a4bb-b3cd48d85ed1",
   "metadata": {},
   "source": [
    "For Horizontal Lines Use three dashes Example (---), asterisks (***), or underscores (___)"
   ]
  },
  {
   "cell_type": "markdown",
   "id": "83ab1e6d-5ead-4dc8-b583-b7738e629057",
   "metadata": {},
   "source": [
    " --- "
   ]
  },
  {
   "cell_type": "markdown",
   "id": "d849de5f-5e7e-4277-94d9-7fa708677bfd",
   "metadata": {},
   "source": [
    "#### Tables"
   ]
  },
  {
   "cell_type": "raw",
   "id": "229532b4-a20d-494f-be6f-254033071721",
   "metadata": {},
   "source": [
    "For Vertical Lines Use Pipes ( | )\n",
    "For Horizontal Lines Use Dashes ( --- )\n"
   ]
  },
  {
   "cell_type": "markdown",
   "id": "7673736a-dd8a-460b-8815-24a0cdd11448",
   "metadata": {},
   "source": [
    "      | Column 1 | | Column 2 | \n",
    "      -------------------------\n",
    "      |  Data 1  | | Data 2   |\n"
   ]
  },
  {
   "cell_type": "markdown",
   "id": "f32cd45b-6a36-458f-b9e9-e3aa3d3d9cd2",
   "metadata": {},
   "source": [
    "#### Mathematical Expressions "
   ]
  },
  {
   "cell_type": "raw",
   "id": "4d41af79-0ade-42c7-802e-7bc7d5c941e4",
   "metadata": {},
   "source": [
    "Use LaTeX syntax between $...$ for **Inline Math**, or **$$...$$** for **Block Math**"
   ]
  },
  {
   "cell_type": "markdown",
   "id": "11931543-5135-45bf-9668-1bb36f5a82b4",
   "metadata": {},
   "source": [
    "$E=mc^2$\n",
    "\n",
    "##### Using Block Math\n",
    "\n",
    "$$E=mc^2+E=mc2^^2$$"
   ]
  },
  {
   "cell_type": "markdown",
   "id": "06bf3c53-fbca-4885-a165-79654575261e",
   "metadata": {},
   "source": [
    "#### HTML"
   ]
  },
  {
   "cell_type": "markdown",
   "id": "53baaf6e-be29-4ff0-b1fb-aafc5697638a",
   "metadata": {},
   "source": [
    "Embed HTML Directly in markdown cells"
   ]
  },
  {
   "cell_type": "raw",
   "id": "1d34868c-214f-4d1c-a948-5650a657fab1",
   "metadata": {},
   "source": [
    "\"\" <h2>That is an HTML Header </h2> \"\"\n",
    "\"\" <p> This is a Paragraph <p> \"\""
   ]
  },
  {
   "cell_type": "markdown",
   "id": "fa720729-702a-4a47-b239-8fccbf7cd6de",
   "metadata": {},
   "source": [
    "<H2>HTML Header</H2>"
   ]
  },
  {
   "cell_type": "markdown",
   "id": "d1d23579-f3ee-437a-86bc-b1005d73a63e",
   "metadata": {},
   "source": [
    "<p>This is an HTML paragraph</p>"
   ]
  },
  {
   "cell_type": "markdown",
   "id": "c17444bd-1ef3-4882-bff2-d22697a671e9",
   "metadata": {},
   "source": [
    "# Jupyter Keybroad Shortcuts"
   ]
  },
  {
   "cell_type": "markdown",
   "id": "03a6c1b6-0d6a-4e18-afd0-c28639bc86b1",
   "metadata": {},
   "source": [
    "### This Shortcuts works only outside the cell ( Not in Cell Edit Mode )"
   ]
  },
  {
   "cell_type": "markdown",
   "id": "a08bdb77-ca99-4274-a642-ace3ccd3371a",
   "metadata": {},
   "source": [
    "**A:** Insert a new cell above the current cell.\n"
   ]
  },
  {
   "cell_type": "markdown",
   "id": "8f9dc1da-1c00-4120-97dc-3eb54c496fd4",
   "metadata": {},
   "source": [
    "\n",
    "**B:** Insert a new cell below the current cell.\n"
   ]
  },
  {
   "cell_type": "markdown",
   "id": "cf88ee82-2d65-4052-81d9-cabd3ef6c499",
   "metadata": {},
   "source": [
    "\n",
    "**D + D:** Delete the current cell.\n"
   ]
  },
  {
   "cell_type": "markdown",
   "id": "3846de70-301b-4a1c-b141-226672bfcc2e",
   "metadata": {},
   "source": [
    "\n",
    "**Z:** Undo the last cell operation.\n"
   ]
  },
  {
   "cell_type": "markdown",
   "id": "ce471395-3bf0-4850-8b40-09989e64aa07",
   "metadata": {},
   "source": [
    "\n",
    "**Y:** Change the cell to a code cell.\n"
   ]
  },
  {
   "cell_type": "markdown",
   "id": "26651cc3-5b85-4e39-a649-4bb033dc8c26",
   "metadata": {},
   "source": [
    "\n",
    "**M:** Change the cell to a markdown cell.\n"
   ]
  },
  {
   "cell_type": "markdown",
   "id": "073047ef-21b9-405a-827f-0c9f8a096492",
   "metadata": {},
   "source": [
    "\n",
    "**Shift + Enter:** Run the cell and move to the next cell.\n"
   ]
  },
  {
   "cell_type": "markdown",
   "id": "7775fab4-4078-4e8c-902e-42fcfbbab6f1",
   "metadata": {},
   "source": [
    "\n",
    "**Ctrl + Enter:** Run the cell and stay in the current cell.\n"
   ]
  },
  {
   "cell_type": "markdown",
   "id": "f0e36aaf-9511-4fc0-8d9d-0a5f13ac2563",
   "metadata": {},
   "source": [
    "\n",
    "**H:** Show all keyboard shortcuts.\n"
   ]
  },
  {
   "cell_type": "markdown",
   "id": "21979b14-13bb-4fe1-8056-2930ece801d6",
   "metadata": {},
   "source": [
    "\n",
    "**C:** Copy the current cell.\n"
   ]
  },
  {
   "cell_type": "markdown",
   "id": "7c61b02b-a24e-4e88-b1e4-12010a300527",
   "metadata": {},
   "source": [
    "\n",
    "**V:** Paste the copied cell below.\n"
   ]
  },
  {
   "cell_type": "markdown",
   "id": "019762f6-f32e-4ff3-9480-24958167a734",
   "metadata": {},
   "source": [
    "\n",
    "**X:** Cut the current cell.\n"
   ]
  },
  {
   "cell_type": "markdown",
   "id": "bf62c3b4-f9e2-4aec-8e64-ba21f3c8066c",
   "metadata": {},
   "source": [
    "\n",
    "**Shift + M:** Merge selected cells.\n"
   ]
  },
  {
   "cell_type": "markdown",
   "id": "e4638224-76b6-4650-8a47-9e70ae58f00c",
   "metadata": {},
   "source": [
    "\n",
    "**Enter:** Enter edit mode."
   ]
  },
  {
   "cell_type": "markdown",
   "id": "7896b3b9-e1a7-4689-bcc9-5758ddf7e6b5",
   "metadata": {},
   "source": [
    "#### This Shortcuts only work in Cell edit mode"
   ]
  },
  {
   "cell_type": "markdown",
   "id": "6c3e1f75-6227-4c9f-9140-8722479873bc",
   "metadata": {},
   "source": [
    "**Ctrl + A:** Select all text.\n"
   ]
  },
  {
   "cell_type": "markdown",
   "id": "e3bd67b2-859b-4042-8187-f7dc4454e366",
   "metadata": {},
   "source": [
    "**Ctrl + Z:** Undo."
   ]
  },
  {
   "cell_type": "markdown",
   "id": "85e83f98-248b-4283-bfec-f88d130b3f9b",
   "metadata": {},
   "source": [
    "**Ctrl + Shift + Z:** Redo."
   ]
  },
  {
   "cell_type": "markdown",
   "id": "01c36f40-9f93-4e82-9530-8a5d49223a0e",
   "metadata": {},
   "source": [
    "**Ctrl + Home:** Go to the start of the cell."
   ]
  },
  {
   "cell_type": "markdown",
   "id": "24bb1925-4641-4e35-8ab4-327114107c89",
   "metadata": {},
   "source": [
    "**Ctrl + End:** Go to the end of the cell."
   ]
  },
  {
   "cell_type": "markdown",
   "id": "0f51e295-35f7-430b-9f13-d82bb3c34536",
   "metadata": {},
   "source": [
    "**Ctrl + /:** Comment/Uncomment selected lines."
   ]
  },
  {
   "cell_type": "markdown",
   "id": "41a6f4fb-7c00-4ae1-97e4-d33fe77835a3",
   "metadata": {},
   "source": [
    "## End of Task                                                                    "
   ]
  },
  {
   "cell_type": "markdown",
   "id": "4e604c2e-b89f-44d7-bdf5-9c0a1b1ded2d",
   "metadata": {},
   "source": [
    "**Gaurav Rode**"
   ]
  },
  {
   "cell_type": "code",
   "execution_count": null,
   "id": "d1b59867-f1d1-44cd-91b3-ce4e8abe9c10",
   "metadata": {},
   "outputs": [],
   "source": []
  }
 ],
 "metadata": {
  "kernelspec": {
   "display_name": "Python 3 (ipykernel)",
   "language": "python",
   "name": "python3"
  },
  "language_info": {
   "codemirror_mode": {
    "name": "ipython",
    "version": 3
   },
   "file_extension": ".py",
   "mimetype": "text/x-python",
   "name": "python",
   "nbconvert_exporter": "python",
   "pygments_lexer": "ipython3",
   "version": "3.12.4"
  }
 },
 "nbformat": 4,
 "nbformat_minor": 5
}
